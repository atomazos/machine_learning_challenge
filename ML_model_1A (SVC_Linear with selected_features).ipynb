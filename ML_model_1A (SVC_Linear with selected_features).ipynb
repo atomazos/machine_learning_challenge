{
 "cells": [
  {
   "cell_type": "code",
   "execution_count": 1,
   "metadata": {},
   "outputs": [],
   "source": [
    "import pandas as pd\n",
    "import numpy as np\n",
    "import matplotlib.pyplot as plt\n",
    "%matplotlib inline"
   ]
  },
  {
   "cell_type": "markdown",
   "metadata": {},
   "source": [
    "### Read CSV and Clean"
   ]
  },
  {
   "cell_type": "code",
   "execution_count": 2,
   "metadata": {},
   "outputs": [
    {
     "data": {
      "text/plain": [
       "FALSE POSITIVE    3504\n",
       "CONFIRMED         1800\n",
       "CANDIDATE         1687\n",
       "Name: koi_disposition, dtype: int64"
      ]
     },
     "execution_count": 2,
     "metadata": {},
     "output_type": "execute_result"
    }
   ],
   "source": [
    "df = pd.read_csv(\"exoplanet_data.csv\")\n",
    "# Drop the null columns where all values are null\n",
    "df = df.dropna(axis='columns', how='all')\n",
    "# # Drop the null rows\n",
    "df = df.dropna()\n",
    "df.koi_disposition.value_counts()"
   ]
  },
  {
   "cell_type": "code",
   "execution_count": 3,
   "metadata": {},
   "outputs": [
    {
     "name": "stderr",
     "output_type": "stream",
     "text": [
      "/Users/pest/anaconda3/envs/PythonData=3.6/lib/python3.7/site-packages/ipykernel_launcher.py:1: SettingWithCopyWarning: \n",
      "A value is trying to be set on a copy of a slice from a DataFrame\n",
      "\n",
      "See the caveats in the documentation: http://pandas.pydata.org/pandas-docs/stable/user_guide/indexing.html#returning-a-view-versus-a-copy\n",
      "  \"\"\"Entry point for launching an IPython kernel.\n",
      "/Users/pest/anaconda3/envs/PythonData=3.6/lib/python3.7/site-packages/ipykernel_launcher.py:2: SettingWithCopyWarning: \n",
      "A value is trying to be set on a copy of a slice from a DataFrame\n",
      "\n",
      "See the caveats in the documentation: http://pandas.pydata.org/pandas-docs/stable/user_guide/indexing.html#returning-a-view-versus-a-copy\n",
      "  \n",
      "/Users/pest/anaconda3/envs/PythonData=3.6/lib/python3.7/site-packages/ipykernel_launcher.py:3: SettingWithCopyWarning: \n",
      "A value is trying to be set on a copy of a slice from a DataFrame\n",
      "\n",
      "See the caveats in the documentation: http://pandas.pydata.org/pandas-docs/stable/user_guide/indexing.html#returning-a-view-versus-a-copy\n",
      "  This is separate from the ipykernel package so we can avoid doing imports until\n"
     ]
    }
   ],
   "source": [
    "df.koi_disposition[df.koi_disposition == 'CANDIDATE'] = 1\n",
    "df.koi_disposition[df.koi_disposition == 'FALSE POSITIVE'] = 0\n",
    "df.koi_disposition[df.koi_disposition == 'CONFIRMED'] = 0\n",
    "df2 = df.koi_disposition.astype(int)\n",
    "df2\n",
    "target_names  = [\"Candidate\", \"Not\"]"
   ]
  },
  {
   "cell_type": "code",
   "execution_count": 20,
   "metadata": {},
   "outputs": [
    {
     "name": "stdout",
     "output_type": "stream",
     "text": [
      " Data Shape: (6991, 40) / Target Shape(6991,) / Target Dtype: int64\n"
     ]
    }
   ],
   "source": [
    "data = df.drop(\"koi_disposition\", axis=1)\n",
    "target = df2\n",
    "print(f\" Data Shape: {data.shape} / Target Shape{target.shape} / Target Dtype: {target.dtype}\")"
   ]
  },
  {
   "cell_type": "markdown",
   "metadata": {},
   "source": [
    "### Feature Selection (using ANOVA F-value)"
   ]
  },
  {
   "cell_type": "code",
   "execution_count": 21,
   "metadata": {},
   "outputs": [],
   "source": [
    "from sklearn.model_selection import cross_val_score\n",
    "from sklearn.ensemble import ExtraTreesClassifier\n",
    "from sklearn.ensemble import RandomForestClassifier\n",
    "from sklearn.tree import DecisionTreeClassifier\n",
    "from sklearn import metrics\n",
    "from sklearn.feature_selection import SelectKBest, f_classif, chi2"
   ]
  },
  {
   "cell_type": "code",
   "execution_count": 59,
   "metadata": {},
   "outputs": [
    {
     "name": "stdout",
     "output_type": "stream",
     "text": [
      "                Specs       Score\n",
      "1       koi_fpflag_ss  711.339551\n",
      "2       koi_fpflag_co  616.002101\n",
      "0       koi_fpflag_nt  440.274865\n",
      "3       koi_fpflag_ec  332.735032\n",
      "26      koi_model_snr  180.475674\n",
      "16          koi_depth  164.084097\n",
      "22            koi_teq  140.713909\n",
      "8    koi_time0bk_err1   70.477548\n",
      "9    koi_time0bk_err2   70.477548\n",
      "14  koi_duration_err1   40.971077\n",
      "15  koi_duration_err2   40.971077\n",
      "13       koi_duration   34.442112\n",
      "29     koi_steff_err1   31.835768\n",
      "30     koi_steff_err2   31.147950\n",
      "4          koi_period   20.033421\n"
     ]
    },
    {
     "name": "stderr",
     "output_type": "stream",
     "text": [
      "/Users/pest/anaconda3/envs/PythonData=3.6/lib/python3.7/site-packages/sklearn/utils/validation.py:724: DataConversionWarning: A column-vector y was passed when a 1d array was expected. Please change the shape of y to (n_samples, ), for example using ravel().\n",
      "  y = column_or_1d(y, warn=True)\n"
     ]
    }
   ],
   "source": [
    "bestfeatures = SelectKBest(f_classif, k=15)\n",
    "fit = bestfeatures.fit(data,target)\n",
    "dfscores = pd.DataFrame(fit.scores_)\n",
    "dfcolumns = pd.DataFrame(data.columns)\n",
    "#concat two dataframes for better visualization \n",
    "featureScores = pd.concat([dfcolumns,dfscores],axis=1)\n",
    "featureScores.columns = ['Specs','Score']  #naming the dataframe columns\n",
    "print(featureScores.nlargest(15,'Score'))  #print 10 best features"
   ]
  },
  {
   "cell_type": "code",
   "execution_count": 61,
   "metadata": {},
   "outputs": [],
   "source": [
    "selected_data = data[['koi_fpflag_ss', 'koi_fpflag_co', 'koi_fpflag_nt', 'koi_fpflag_ec', 'koi_model_snr','koi_depth','koi_teq','koi_time0bk_err1', 'koi_time0bk_err2', 'koi_duration_err1','koi_duration_err2','koi_duration','koi_steff_err1','koi_steff_err2','koi_period']].copy()"
   ]
  },
  {
   "cell_type": "code",
   "execution_count": 62,
   "metadata": {},
   "outputs": [
    {
     "name": "stdout",
     "output_type": "stream",
     "text": [
      "(6991, 15)\n",
      "(6991, 1)\n"
     ]
    }
   ],
   "source": [
    "print(selected_data.shape)\n",
    "target = df2.values.reshape(-1,1)\n",
    "print(target.shape)"
   ]
  },
  {
   "cell_type": "markdown",
   "metadata": {},
   "source": [
    "### Create a Train-Test Split"
   ]
  },
  {
   "cell_type": "code",
   "execution_count": 63,
   "metadata": {},
   "outputs": [],
   "source": [
    "from sklearn.model_selection import train_test_split\n",
    "from sklearn.preprocessing import MinMaxScaler\n",
    "from tensorflow.keras.utils import to_categorical"
   ]
  },
  {
   "cell_type": "code",
   "execution_count": 64,
   "metadata": {},
   "outputs": [
    {
     "data": {
      "text/html": [
       "<div>\n",
       "<style scoped>\n",
       "    .dataframe tbody tr th:only-of-type {\n",
       "        vertical-align: middle;\n",
       "    }\n",
       "\n",
       "    .dataframe tbody tr th {\n",
       "        vertical-align: top;\n",
       "    }\n",
       "\n",
       "    .dataframe thead th {\n",
       "        text-align: right;\n",
       "    }\n",
       "</style>\n",
       "<table border=\"1\" class=\"dataframe\">\n",
       "  <thead>\n",
       "    <tr style=\"text-align: right;\">\n",
       "      <th></th>\n",
       "      <th>koi_fpflag_ss</th>\n",
       "      <th>koi_fpflag_co</th>\n",
       "      <th>koi_fpflag_nt</th>\n",
       "      <th>koi_fpflag_ec</th>\n",
       "      <th>koi_model_snr</th>\n",
       "      <th>koi_depth</th>\n",
       "      <th>koi_teq</th>\n",
       "      <th>koi_time0bk_err1</th>\n",
       "      <th>koi_time0bk_err2</th>\n",
       "      <th>koi_duration_err1</th>\n",
       "      <th>koi_duration_err2</th>\n",
       "      <th>koi_duration</th>\n",
       "      <th>koi_steff_err1</th>\n",
       "      <th>koi_steff_err2</th>\n",
       "      <th>koi_period</th>\n",
       "    </tr>\n",
       "  </thead>\n",
       "  <tbody>\n",
       "    <tr>\n",
       "      <td>4222</td>\n",
       "      <td>0</td>\n",
       "      <td>1</td>\n",
       "      <td>0</td>\n",
       "      <td>0</td>\n",
       "      <td>37.6</td>\n",
       "      <td>161.1</td>\n",
       "      <td>743</td>\n",
       "      <td>0.006210</td>\n",
       "      <td>-0.006210</td>\n",
       "      <td>0.1890</td>\n",
       "      <td>-0.1890</td>\n",
       "      <td>13.8770</td>\n",
       "      <td>163</td>\n",
       "      <td>-199</td>\n",
       "      <td>15.745559</td>\n",
       "    </tr>\n",
       "    <tr>\n",
       "      <td>6119</td>\n",
       "      <td>0</td>\n",
       "      <td>1</td>\n",
       "      <td>0</td>\n",
       "      <td>1</td>\n",
       "      <td>16.7</td>\n",
       "      <td>49.9</td>\n",
       "      <td>932</td>\n",
       "      <td>0.016400</td>\n",
       "      <td>-0.016400</td>\n",
       "      <td>0.8520</td>\n",
       "      <td>-0.8520</td>\n",
       "      <td>8.7240</td>\n",
       "      <td>128</td>\n",
       "      <td>-128</td>\n",
       "      <td>1.891144</td>\n",
       "    </tr>\n",
       "    <tr>\n",
       "      <td>3996</td>\n",
       "      <td>1</td>\n",
       "      <td>0</td>\n",
       "      <td>0</td>\n",
       "      <td>0</td>\n",
       "      <td>617.7</td>\n",
       "      <td>165480.0</td>\n",
       "      <td>1289</td>\n",
       "      <td>0.000465</td>\n",
       "      <td>-0.000465</td>\n",
       "      <td>0.0116</td>\n",
       "      <td>-0.0116</td>\n",
       "      <td>3.7357</td>\n",
       "      <td>188</td>\n",
       "      <td>-209</td>\n",
       "      <td>2.900613</td>\n",
       "    </tr>\n",
       "    <tr>\n",
       "      <td>374</td>\n",
       "      <td>0</td>\n",
       "      <td>0</td>\n",
       "      <td>0</td>\n",
       "      <td>0</td>\n",
       "      <td>23.4</td>\n",
       "      <td>135.2</td>\n",
       "      <td>1156</td>\n",
       "      <td>0.002320</td>\n",
       "      <td>-0.002320</td>\n",
       "      <td>0.0747</td>\n",
       "      <td>-0.0747</td>\n",
       "      <td>1.8069</td>\n",
       "      <td>108</td>\n",
       "      <td>-97</td>\n",
       "      <td>3.481592</td>\n",
       "    </tr>\n",
       "    <tr>\n",
       "      <td>984</td>\n",
       "      <td>0</td>\n",
       "      <td>0</td>\n",
       "      <td>0</td>\n",
       "      <td>0</td>\n",
       "      <td>22.5</td>\n",
       "      <td>776.8</td>\n",
       "      <td>699</td>\n",
       "      <td>0.004090</td>\n",
       "      <td>-0.004090</td>\n",
       "      <td>0.0972</td>\n",
       "      <td>-0.0972</td>\n",
       "      <td>3.6765</td>\n",
       "      <td>107</td>\n",
       "      <td>-131</td>\n",
       "      <td>17.815969</td>\n",
       "    </tr>\n",
       "  </tbody>\n",
       "</table>\n",
       "</div>"
      ],
      "text/plain": [
       "      koi_fpflag_ss  koi_fpflag_co  koi_fpflag_nt  koi_fpflag_ec  \\\n",
       "4222              0              1              0              0   \n",
       "6119              0              1              0              1   \n",
       "3996              1              0              0              0   \n",
       "374               0              0              0              0   \n",
       "984               0              0              0              0   \n",
       "\n",
       "      koi_model_snr  koi_depth  koi_teq  koi_time0bk_err1  koi_time0bk_err2  \\\n",
       "4222           37.6      161.1      743          0.006210         -0.006210   \n",
       "6119           16.7       49.9      932          0.016400         -0.016400   \n",
       "3996          617.7   165480.0     1289          0.000465         -0.000465   \n",
       "374            23.4      135.2     1156          0.002320         -0.002320   \n",
       "984            22.5      776.8      699          0.004090         -0.004090   \n",
       "\n",
       "      koi_duration_err1  koi_duration_err2  koi_duration  koi_steff_err1  \\\n",
       "4222             0.1890            -0.1890       13.8770             163   \n",
       "6119             0.8520            -0.8520        8.7240             128   \n",
       "3996             0.0116            -0.0116        3.7357             188   \n",
       "374              0.0747            -0.0747        1.8069             108   \n",
       "984              0.0972            -0.0972        3.6765             107   \n",
       "\n",
       "      koi_steff_err2  koi_period  \n",
       "4222            -199   15.745559  \n",
       "6119            -128    1.891144  \n",
       "3996            -209    2.900613  \n",
       "374              -97    3.481592  \n",
       "984             -131   17.815969  "
      ]
     },
     "execution_count": 64,
     "metadata": {},
     "output_type": "execute_result"
    }
   ],
   "source": [
    "X_train, X_test, y_train, y_test = train_test_split(selected_data, target, random_state=42, stratify=target)\n",
    "X_train.head()"
   ]
  },
  {
   "cell_type": "markdown",
   "metadata": {},
   "source": [
    "### Pre-processing (using MinMaxScaler)"
   ]
  },
  {
   "cell_type": "code",
   "execution_count": 65,
   "metadata": {},
   "outputs": [],
   "source": [
    "X_minmax = MinMaxScaler().fit(X_train)\n",
    "y_minmax = MinMaxScaler().fit(y_train)\n",
    "\n",
    "X_train_minmax = X_minmax.transform(X_train)\n",
    "X_test_minmax = X_minmax.transform(X_test)\n",
    "y_train_minmax = y_minmax.transform(y_train)\n",
    "y_test_minmax = y_minmax.transform(y_test)"
   ]
  },
  {
   "cell_type": "markdown",
   "metadata": {},
   "source": [
    "### Train the Model"
   ]
  },
  {
   "cell_type": "code",
   "execution_count": 66,
   "metadata": {},
   "outputs": [
    {
     "name": "stderr",
     "output_type": "stream",
     "text": [
      "/Users/pest/anaconda3/envs/PythonData=3.6/lib/python3.7/site-packages/sklearn/utils/validation.py:724: DataConversionWarning: A column-vector y was passed when a 1d array was expected. Please change the shape of y to (n_samples, ), for example using ravel().\n",
      "  y = column_or_1d(y, warn=True)\n"
     ]
    }
   ],
   "source": [
    "from sklearn.svm import SVC \n",
    "model = SVC(kernel='linear')\n",
    "model.fit(X_train_minmax, y_train_minmax)\n",
    "predictions = model.predict(X_test_minmax)"
   ]
  },
  {
   "cell_type": "code",
   "execution_count": 67,
   "metadata": {},
   "outputs": [
    {
     "name": "stdout",
     "output_type": "stream",
     "text": [
      "Training Data Score: 0.8441731832920084\n",
      "Testing Data Score: 0.8392448512585813\n"
     ]
    }
   ],
   "source": [
    "print(f\"Training Data Score: {model.score(X_train_minmax, y_train_minmax)}\")\n",
    "print(f\"Testing Data Score: {model.score(X_test_minmax, y_test_minmax)}\")"
   ]
  },
  {
   "cell_type": "markdown",
   "metadata": {},
   "source": [
    "### HyperParameter Tuner"
   ]
  },
  {
   "cell_type": "code",
   "execution_count": 99,
   "metadata": {},
   "outputs": [],
   "source": [
    "from sklearn.model_selection import GridSearchCV\n",
    "param_grid = {'C': [250, 500, 1000],\n",
    "              'gamma': [0.0000001, 0.000001, 0.00001]}\n",
    "grid = GridSearchCV(model, param_grid, verbose=5)"
   ]
  },
  {
   "cell_type": "code",
   "execution_count": 100,
   "metadata": {},
   "outputs": [
    {
     "name": "stderr",
     "output_type": "stream",
     "text": [
      "/Users/pest/anaconda3/envs/PythonData=3.6/lib/python3.7/site-packages/sklearn/model_selection/_split.py:1978: FutureWarning: The default value of cv will change from 3 to 5 in version 0.22. Specify it explicitly to silence this warning.\n",
      "  warnings.warn(CV_WARNING, FutureWarning)\n",
      "[Parallel(n_jobs=1)]: Using backend SequentialBackend with 1 concurrent workers.\n",
      "/Users/pest/anaconda3/envs/PythonData=3.6/lib/python3.7/site-packages/sklearn/utils/validation.py:724: DataConversionWarning: A column-vector y was passed when a 1d array was expected. Please change the shape of y to (n_samples, ), for example using ravel().\n",
      "  y = column_or_1d(y, warn=True)\n"
     ]
    },
    {
     "name": "stdout",
     "output_type": "stream",
     "text": [
      "Fitting 3 folds for each of 9 candidates, totalling 27 fits\n",
      "[CV] C=250, gamma=1e-07 ..............................................\n",
      "[CV] .................. C=250, gamma=1e-07, score=0.894, total=   0.3s\n",
      "[CV] C=250, gamma=1e-07 ..............................................\n",
      "[CV] .................. C=250, gamma=1e-07, score=0.886, total=   0.2s\n",
      "[CV] C=250, gamma=1e-07 ..............................................\n"
     ]
    },
    {
     "name": "stderr",
     "output_type": "stream",
     "text": [
      "[Parallel(n_jobs=1)]: Done   1 out of   1 | elapsed:    0.3s remaining:    0.0s\n",
      "/Users/pest/anaconda3/envs/PythonData=3.6/lib/python3.7/site-packages/sklearn/utils/validation.py:724: DataConversionWarning: A column-vector y was passed when a 1d array was expected. Please change the shape of y to (n_samples, ), for example using ravel().\n",
      "  y = column_or_1d(y, warn=True)\n",
      "[Parallel(n_jobs=1)]: Done   2 out of   2 | elapsed:    0.5s remaining:    0.0s\n",
      "/Users/pest/anaconda3/envs/PythonData=3.6/lib/python3.7/site-packages/sklearn/utils/validation.py:724: DataConversionWarning: A column-vector y was passed when a 1d array was expected. Please change the shape of y to (n_samples, ), for example using ravel().\n",
      "  y = column_or_1d(y, warn=True)\n"
     ]
    },
    {
     "name": "stdout",
     "output_type": "stream",
     "text": [
      "[CV] .................. C=250, gamma=1e-07, score=0.879, total=   0.2s\n",
      "[CV] C=250, gamma=1e-06 ..............................................\n",
      "[CV] .................. C=250, gamma=1e-06, score=0.894, total=   0.2s\n",
      "[CV] C=250, gamma=1e-06 ..............................................\n"
     ]
    },
    {
     "name": "stderr",
     "output_type": "stream",
     "text": [
      "[Parallel(n_jobs=1)]: Done   3 out of   3 | elapsed:    0.7s remaining:    0.0s\n",
      "/Users/pest/anaconda3/envs/PythonData=3.6/lib/python3.7/site-packages/sklearn/utils/validation.py:724: DataConversionWarning: A column-vector y was passed when a 1d array was expected. Please change the shape of y to (n_samples, ), for example using ravel().\n",
      "  y = column_or_1d(y, warn=True)\n",
      "[Parallel(n_jobs=1)]: Done   4 out of   4 | elapsed:    0.9s remaining:    0.0s\n",
      "/Users/pest/anaconda3/envs/PythonData=3.6/lib/python3.7/site-packages/sklearn/utils/validation.py:724: DataConversionWarning: A column-vector y was passed when a 1d array was expected. Please change the shape of y to (n_samples, ), for example using ravel().\n",
      "  y = column_or_1d(y, warn=True)\n"
     ]
    },
    {
     "name": "stdout",
     "output_type": "stream",
     "text": [
      "[CV] .................. C=250, gamma=1e-06, score=0.886, total=   0.2s\n",
      "[CV] C=250, gamma=1e-06 ..............................................\n",
      "[CV] .................. C=250, gamma=1e-06, score=0.879, total=   0.2s\n",
      "[CV] C=250, gamma=1e-05 ..............................................\n"
     ]
    },
    {
     "name": "stderr",
     "output_type": "stream",
     "text": [
      "/Users/pest/anaconda3/envs/PythonData=3.6/lib/python3.7/site-packages/sklearn/utils/validation.py:724: DataConversionWarning: A column-vector y was passed when a 1d array was expected. Please change the shape of y to (n_samples, ), for example using ravel().\n",
      "  y = column_or_1d(y, warn=True)\n",
      "/Users/pest/anaconda3/envs/PythonData=3.6/lib/python3.7/site-packages/sklearn/utils/validation.py:724: DataConversionWarning: A column-vector y was passed when a 1d array was expected. Please change the shape of y to (n_samples, ), for example using ravel().\n",
      "  y = column_or_1d(y, warn=True)\n"
     ]
    },
    {
     "name": "stdout",
     "output_type": "stream",
     "text": [
      "[CV] .................. C=250, gamma=1e-05, score=0.894, total=   0.2s\n",
      "[CV] C=250, gamma=1e-05 ..............................................\n",
      "[CV] .................. C=250, gamma=1e-05, score=0.886, total=   0.2s\n",
      "[CV] C=250, gamma=1e-05 ..............................................\n"
     ]
    },
    {
     "name": "stderr",
     "output_type": "stream",
     "text": [
      "/Users/pest/anaconda3/envs/PythonData=3.6/lib/python3.7/site-packages/sklearn/utils/validation.py:724: DataConversionWarning: A column-vector y was passed when a 1d array was expected. Please change the shape of y to (n_samples, ), for example using ravel().\n",
      "  y = column_or_1d(y, warn=True)\n",
      "/Users/pest/anaconda3/envs/PythonData=3.6/lib/python3.7/site-packages/sklearn/utils/validation.py:724: DataConversionWarning: A column-vector y was passed when a 1d array was expected. Please change the shape of y to (n_samples, ), for example using ravel().\n",
      "  y = column_or_1d(y, warn=True)\n"
     ]
    },
    {
     "name": "stdout",
     "output_type": "stream",
     "text": [
      "[CV] .................. C=250, gamma=1e-05, score=0.879, total=   0.2s\n",
      "[CV] C=500, gamma=1e-07 ..............................................\n"
     ]
    },
    {
     "name": "stderr",
     "output_type": "stream",
     "text": [
      "/Users/pest/anaconda3/envs/PythonData=3.6/lib/python3.7/site-packages/sklearn/utils/validation.py:724: DataConversionWarning: A column-vector y was passed when a 1d array was expected. Please change the shape of y to (n_samples, ), for example using ravel().\n",
      "  y = column_or_1d(y, warn=True)\n"
     ]
    },
    {
     "name": "stdout",
     "output_type": "stream",
     "text": [
      "[CV] .................. C=500, gamma=1e-07, score=0.894, total=   0.2s\n",
      "[CV] C=500, gamma=1e-07 ..............................................\n"
     ]
    },
    {
     "name": "stderr",
     "output_type": "stream",
     "text": [
      "/Users/pest/anaconda3/envs/PythonData=3.6/lib/python3.7/site-packages/sklearn/utils/validation.py:724: DataConversionWarning: A column-vector y was passed when a 1d array was expected. Please change the shape of y to (n_samples, ), for example using ravel().\n",
      "  y = column_or_1d(y, warn=True)\n"
     ]
    },
    {
     "name": "stdout",
     "output_type": "stream",
     "text": [
      "[CV] .................. C=500, gamma=1e-07, score=0.887, total=   0.2s\n",
      "[CV] C=500, gamma=1e-07 ..............................................\n"
     ]
    },
    {
     "name": "stderr",
     "output_type": "stream",
     "text": [
      "/Users/pest/anaconda3/envs/PythonData=3.6/lib/python3.7/site-packages/sklearn/utils/validation.py:724: DataConversionWarning: A column-vector y was passed when a 1d array was expected. Please change the shape of y to (n_samples, ), for example using ravel().\n",
      "  y = column_or_1d(y, warn=True)\n"
     ]
    },
    {
     "name": "stdout",
     "output_type": "stream",
     "text": [
      "[CV] .................. C=500, gamma=1e-07, score=0.879, total=   0.2s\n",
      "[CV] C=500, gamma=1e-06 ..............................................\n"
     ]
    },
    {
     "name": "stderr",
     "output_type": "stream",
     "text": [
      "/Users/pest/anaconda3/envs/PythonData=3.6/lib/python3.7/site-packages/sklearn/utils/validation.py:724: DataConversionWarning: A column-vector y was passed when a 1d array was expected. Please change the shape of y to (n_samples, ), for example using ravel().\n",
      "  y = column_or_1d(y, warn=True)\n"
     ]
    },
    {
     "name": "stdout",
     "output_type": "stream",
     "text": [
      "[CV] .................. C=500, gamma=1e-06, score=0.894, total=   0.3s\n",
      "[CV] C=500, gamma=1e-06 ..............................................\n"
     ]
    },
    {
     "name": "stderr",
     "output_type": "stream",
     "text": [
      "/Users/pest/anaconda3/envs/PythonData=3.6/lib/python3.7/site-packages/sklearn/utils/validation.py:724: DataConversionWarning: A column-vector y was passed when a 1d array was expected. Please change the shape of y to (n_samples, ), for example using ravel().\n",
      "  y = column_or_1d(y, warn=True)\n"
     ]
    },
    {
     "name": "stdout",
     "output_type": "stream",
     "text": [
      "[CV] .................. C=500, gamma=1e-06, score=0.887, total=   0.2s\n",
      "[CV] C=500, gamma=1e-06 ..............................................\n"
     ]
    },
    {
     "name": "stderr",
     "output_type": "stream",
     "text": [
      "/Users/pest/anaconda3/envs/PythonData=3.6/lib/python3.7/site-packages/sklearn/utils/validation.py:724: DataConversionWarning: A column-vector y was passed when a 1d array was expected. Please change the shape of y to (n_samples, ), for example using ravel().\n",
      "  y = column_or_1d(y, warn=True)\n"
     ]
    },
    {
     "name": "stdout",
     "output_type": "stream",
     "text": [
      "[CV] .................. C=500, gamma=1e-06, score=0.879, total=   0.2s\n",
      "[CV] C=500, gamma=1e-05 ..............................................\n"
     ]
    },
    {
     "name": "stderr",
     "output_type": "stream",
     "text": [
      "/Users/pest/anaconda3/envs/PythonData=3.6/lib/python3.7/site-packages/sklearn/utils/validation.py:724: DataConversionWarning: A column-vector y was passed when a 1d array was expected. Please change the shape of y to (n_samples, ), for example using ravel().\n",
      "  y = column_or_1d(y, warn=True)\n"
     ]
    },
    {
     "name": "stdout",
     "output_type": "stream",
     "text": [
      "[CV] .................. C=500, gamma=1e-05, score=0.894, total=   0.2s\n",
      "[CV] C=500, gamma=1e-05 ..............................................\n"
     ]
    },
    {
     "name": "stderr",
     "output_type": "stream",
     "text": [
      "/Users/pest/anaconda3/envs/PythonData=3.6/lib/python3.7/site-packages/sklearn/utils/validation.py:724: DataConversionWarning: A column-vector y was passed when a 1d array was expected. Please change the shape of y to (n_samples, ), for example using ravel().\n",
      "  y = column_or_1d(y, warn=True)\n"
     ]
    },
    {
     "name": "stdout",
     "output_type": "stream",
     "text": [
      "[CV] .................. C=500, gamma=1e-05, score=0.887, total=   0.2s\n",
      "[CV] C=500, gamma=1e-05 ..............................................\n"
     ]
    },
    {
     "name": "stderr",
     "output_type": "stream",
     "text": [
      "/Users/pest/anaconda3/envs/PythonData=3.6/lib/python3.7/site-packages/sklearn/utils/validation.py:724: DataConversionWarning: A column-vector y was passed when a 1d array was expected. Please change the shape of y to (n_samples, ), for example using ravel().\n",
      "  y = column_or_1d(y, warn=True)\n"
     ]
    },
    {
     "name": "stdout",
     "output_type": "stream",
     "text": [
      "[CV] .................. C=500, gamma=1e-05, score=0.879, total=   0.2s\n",
      "[CV] C=520, gamma=1e-07 ..............................................\n"
     ]
    },
    {
     "name": "stderr",
     "output_type": "stream",
     "text": [
      "/Users/pest/anaconda3/envs/PythonData=3.6/lib/python3.7/site-packages/sklearn/utils/validation.py:724: DataConversionWarning: A column-vector y was passed when a 1d array was expected. Please change the shape of y to (n_samples, ), for example using ravel().\n",
      "  y = column_or_1d(y, warn=True)\n"
     ]
    },
    {
     "name": "stdout",
     "output_type": "stream",
     "text": [
      "[CV] .................. C=520, gamma=1e-07, score=0.895, total=   0.3s\n",
      "[CV] C=520, gamma=1e-07 ..............................................\n"
     ]
    },
    {
     "name": "stderr",
     "output_type": "stream",
     "text": [
      "/Users/pest/anaconda3/envs/PythonData=3.6/lib/python3.7/site-packages/sklearn/utils/validation.py:724: DataConversionWarning: A column-vector y was passed when a 1d array was expected. Please change the shape of y to (n_samples, ), for example using ravel().\n",
      "  y = column_or_1d(y, warn=True)\n"
     ]
    },
    {
     "name": "stdout",
     "output_type": "stream",
     "text": [
      "[CV] .................. C=520, gamma=1e-07, score=0.887, total=   0.2s\n",
      "[CV] C=520, gamma=1e-07 ..............................................\n"
     ]
    },
    {
     "name": "stderr",
     "output_type": "stream",
     "text": [
      "/Users/pest/anaconda3/envs/PythonData=3.6/lib/python3.7/site-packages/sklearn/utils/validation.py:724: DataConversionWarning: A column-vector y was passed when a 1d array was expected. Please change the shape of y to (n_samples, ), for example using ravel().\n",
      "  y = column_or_1d(y, warn=True)\n"
     ]
    },
    {
     "name": "stdout",
     "output_type": "stream",
     "text": [
      "[CV] .................. C=520, gamma=1e-07, score=0.879, total=   0.2s\n",
      "[CV] C=520, gamma=1e-06 ..............................................\n"
     ]
    },
    {
     "name": "stderr",
     "output_type": "stream",
     "text": [
      "/Users/pest/anaconda3/envs/PythonData=3.6/lib/python3.7/site-packages/sklearn/utils/validation.py:724: DataConversionWarning: A column-vector y was passed when a 1d array was expected. Please change the shape of y to (n_samples, ), for example using ravel().\n",
      "  y = column_or_1d(y, warn=True)\n"
     ]
    },
    {
     "name": "stdout",
     "output_type": "stream",
     "text": [
      "[CV] .................. C=520, gamma=1e-06, score=0.895, total=   0.3s\n",
      "[CV] C=520, gamma=1e-06 ..............................................\n"
     ]
    },
    {
     "name": "stderr",
     "output_type": "stream",
     "text": [
      "/Users/pest/anaconda3/envs/PythonData=3.6/lib/python3.7/site-packages/sklearn/utils/validation.py:724: DataConversionWarning: A column-vector y was passed when a 1d array was expected. Please change the shape of y to (n_samples, ), for example using ravel().\n",
      "  y = column_or_1d(y, warn=True)\n"
     ]
    },
    {
     "name": "stdout",
     "output_type": "stream",
     "text": [
      "[CV] .................. C=520, gamma=1e-06, score=0.887, total=   0.2s\n",
      "[CV] C=520, gamma=1e-06 ..............................................\n"
     ]
    },
    {
     "name": "stderr",
     "output_type": "stream",
     "text": [
      "/Users/pest/anaconda3/envs/PythonData=3.6/lib/python3.7/site-packages/sklearn/utils/validation.py:724: DataConversionWarning: A column-vector y was passed when a 1d array was expected. Please change the shape of y to (n_samples, ), for example using ravel().\n",
      "  y = column_or_1d(y, warn=True)\n"
     ]
    },
    {
     "name": "stdout",
     "output_type": "stream",
     "text": [
      "[CV] .................. C=520, gamma=1e-06, score=0.879, total=   0.2s\n",
      "[CV] C=520, gamma=1e-05 ..............................................\n"
     ]
    },
    {
     "name": "stderr",
     "output_type": "stream",
     "text": [
      "/Users/pest/anaconda3/envs/PythonData=3.6/lib/python3.7/site-packages/sklearn/utils/validation.py:724: DataConversionWarning: A column-vector y was passed when a 1d array was expected. Please change the shape of y to (n_samples, ), for example using ravel().\n",
      "  y = column_or_1d(y, warn=True)\n"
     ]
    },
    {
     "name": "stdout",
     "output_type": "stream",
     "text": [
      "[CV] .................. C=520, gamma=1e-05, score=0.895, total=   0.3s\n",
      "[CV] C=520, gamma=1e-05 ..............................................\n"
     ]
    },
    {
     "name": "stderr",
     "output_type": "stream",
     "text": [
      "/Users/pest/anaconda3/envs/PythonData=3.6/lib/python3.7/site-packages/sklearn/utils/validation.py:724: DataConversionWarning: A column-vector y was passed when a 1d array was expected. Please change the shape of y to (n_samples, ), for example using ravel().\n",
      "  y = column_or_1d(y, warn=True)\n"
     ]
    },
    {
     "name": "stdout",
     "output_type": "stream",
     "text": [
      "[CV] .................. C=520, gamma=1e-05, score=0.887, total=   0.2s\n",
      "[CV] C=520, gamma=1e-05 ..............................................\n"
     ]
    },
    {
     "name": "stderr",
     "output_type": "stream",
     "text": [
      "/Users/pest/anaconda3/envs/PythonData=3.6/lib/python3.7/site-packages/sklearn/utils/validation.py:724: DataConversionWarning: A column-vector y was passed when a 1d array was expected. Please change the shape of y to (n_samples, ), for example using ravel().\n",
      "  y = column_or_1d(y, warn=True)\n"
     ]
    },
    {
     "name": "stdout",
     "output_type": "stream",
     "text": [
      "[CV] .................. C=520, gamma=1e-05, score=0.879, total=   0.2s\n"
     ]
    },
    {
     "name": "stderr",
     "output_type": "stream",
     "text": [
      "[Parallel(n_jobs=1)]: Done  27 out of  27 | elapsed:    6.0s finished\n",
      "/Users/pest/anaconda3/envs/PythonData=3.6/lib/python3.7/site-packages/sklearn/utils/validation.py:724: DataConversionWarning: A column-vector y was passed when a 1d array was expected. Please change the shape of y to (n_samples, ), for example using ravel().\n",
      "  y = column_or_1d(y, warn=True)\n"
     ]
    },
    {
     "data": {
      "text/plain": [
       "GridSearchCV(cv='warn', error_score='raise-deprecating',\n",
       "             estimator=SVC(C=1.0, cache_size=200, class_weight=None, coef0=0.0,\n",
       "                           decision_function_shape='ovr', degree=3,\n",
       "                           gamma='auto_deprecated', kernel='linear',\n",
       "                           max_iter=-1, probability=False, random_state=None,\n",
       "                           shrinking=True, tol=0.001, verbose=False),\n",
       "             iid='warn', n_jobs=None,\n",
       "             param_grid={'C': [250, 500, 520], 'gamma': [1e-07, 1e-06, 1e-05]},\n",
       "             pre_dispatch='2*n_jobs', refit=True, return_train_score=False,\n",
       "             scoring=None, verbose=5)"
      ]
     },
     "execution_count": 100,
     "metadata": {},
     "output_type": "execute_result"
    }
   ],
   "source": [
    "grid.fit(X_train_minmax, y_train_minmax)"
   ]
  },
  {
   "cell_type": "code",
   "execution_count": 101,
   "metadata": {},
   "outputs": [
    {
     "name": "stdout",
     "output_type": "stream",
     "text": [
      "{'C': 500, 'gamma': 1e-07}\n",
      "0.88670608430288\n"
     ]
    }
   ],
   "source": [
    "print(grid.best_params_)\n",
    "print(grid.best_score_)"
   ]
  },
  {
   "cell_type": "markdown",
   "metadata": {},
   "source": [
    "### Classification Report"
   ]
  },
  {
   "cell_type": "code",
   "execution_count": 102,
   "metadata": {},
   "outputs": [
    {
     "name": "stdout",
     "output_type": "stream",
     "text": [
      "              precision    recall  f1-score   support\n",
      "\n",
      "   Candidate       0.90      0.95      0.92      1326\n",
      "         Not       0.80      0.66      0.73       422\n",
      "\n",
      "    accuracy                           0.88      1748\n",
      "   macro avg       0.85      0.80      0.82      1748\n",
      "weighted avg       0.88      0.88      0.88      1748\n",
      "\n"
     ]
    }
   ],
   "source": [
    "from sklearn.metrics import classification_report\n",
    "predictions = grid.predict(X_test_minmax)\n",
    "print(classification_report(y_test_minmax, predictions,\n",
    "                            target_names=target_names))"
   ]
  },
  {
   "cell_type": "markdown",
   "metadata": {},
   "source": [
    "### Save Model"
   ]
  },
  {
   "cell_type": "code",
   "execution_count": 14,
   "metadata": {},
   "outputs": [],
   "source": [
    "import joblib"
   ]
  },
  {
   "cell_type": "code",
   "execution_count": null,
   "metadata": {},
   "outputs": [],
   "source": []
  }
 ],
 "metadata": {
  "kernelspec": {
   "display_name": "Python 3",
   "language": "python",
   "name": "python3"
  },
  "language_info": {
   "codemirror_mode": {
    "name": "ipython",
    "version": 3
   },
   "file_extension": ".py",
   "mimetype": "text/x-python",
   "name": "python",
   "nbconvert_exporter": "python",
   "pygments_lexer": "ipython3",
   "version": "3.7.4"
  }
 },
 "nbformat": 4,
 "nbformat_minor": 2
}
